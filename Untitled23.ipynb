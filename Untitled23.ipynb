{
  "nbformat": 4,
  "nbformat_minor": 0,
  "metadata": {
    "colab": {
      "provenance": []
    },
    "kernelspec": {
      "name": "python3",
      "display_name": "Python 3"
    },
    "language_info": {
      "name": "python"
    }
  },
  "cells": [
    {
      "cell_type": "code",
      "execution_count": 55,
      "metadata": {
        "id": "wF84txkTqudk"
      },
      "outputs": [],
      "source": [
        "#Import necessary modules\n",
        "import pandas as pd\n",
        "import numpy as np\n",
        "from sklearn.model_selection import train_test_split\n",
        "from sklearn.neighbors import KNeighborsClassifier\n",
        "from sklearn.naive_bayes import GaussianNB\n",
        "from sklearn.model_selection import cross_val_score\n",
        "import matplotlib.pyplot as plt\n",
        "import seaborn as sns\n",
        "from imblearn.under_sampling import CondensedNearestNeighbour\n",
        "from scipy.spatial.distance import cdist\n",
        "from sklearn.neighbors import KDTree\n",
        "import time\n",
        "from sklearn.metrics import f1_score\n",
        "from imblearn.over_sampling import SMOTE\n",
        "import warnings\n",
        "warnings.simplefilter(action='ignore', category=FutureWarning)"
      ]
    },
    {
      "cell_type": "code",
      "source": [
        "# Load the waveform dataset\n",
        "df = pd.read_csv('/content/waveform.data', header=None)"
      ],
      "metadata": {
        "id": "ICPz79aXq4c2"
      },
      "execution_count": 2,
      "outputs": []
    },
    {
      "cell_type": "code",
      "source": [
        "df.head()"
      ],
      "metadata": {
        "colab": {
          "base_uri": "https://localhost:8080/",
          "height": 235
        },
        "id": "rduJWCMIrANg",
        "outputId": "33c8a565-9cb9-427c-c414-beb9cbf9f0d8"
      },
      "execution_count": 3,
      "outputs": [
        {
          "output_type": "execute_result",
          "data": {
            "text/plain": [
              "     0     1     2     3     4     5     6     7     8     9   ...    12  \\\n",
              "0 -1.23 -1.56 -1.75 -0.28  0.60  2.22  0.85  0.21 -0.20  0.89  ...  2.89   \n",
              "1 -0.69  2.43  0.61  2.08  2.30  3.25  5.52  4.55  2.97  2.22  ...  1.24   \n",
              "2 -0.12 -0.94  1.29  2.59  2.42  3.55  4.94  3.25  1.90  2.07  ...  2.50   \n",
              "3  0.86  0.29  2.19 -0.02  1.13  2.51  2.37  5.45  5.45  4.84  ...  2.58   \n",
              "4  1.16  0.37  0.40 -0.59  2.66  1.00  2.69  4.06  5.34  3.53  ...  4.30   \n",
              "\n",
              "     13    14    15    16    17    18    19    20  21  \n",
              "0  7.75  4.59  3.15  5.12  3.32  1.20  0.24 -0.56   2  \n",
              "1  1.89  1.88 -1.34  0.83  1.41  1.78  0.60  2.42   1  \n",
              "2  0.12  1.41  2.78  0.64  0.62 -0.01 -0.79 -0.12   0  \n",
              "3  1.40  1.24  1.41  1.07 -1.43  2.84 -1.18  1.12   1  \n",
              "4  1.84  1.73  0.21 -0.18  0.13 -0.21 -0.80 -0.68   1  \n",
              "\n",
              "[5 rows x 22 columns]"
            ],
            "text/html": [
              "\n",
              "  <div id=\"df-fabff19c-7d4a-4df8-a3cd-c416f4e9fd0e\">\n",
              "    <div class=\"colab-df-container\">\n",
              "      <div>\n",
              "<style scoped>\n",
              "    .dataframe tbody tr th:only-of-type {\n",
              "        vertical-align: middle;\n",
              "    }\n",
              "\n",
              "    .dataframe tbody tr th {\n",
              "        vertical-align: top;\n",
              "    }\n",
              "\n",
              "    .dataframe thead th {\n",
              "        text-align: right;\n",
              "    }\n",
              "</style>\n",
              "<table border=\"1\" class=\"dataframe\">\n",
              "  <thead>\n",
              "    <tr style=\"text-align: right;\">\n",
              "      <th></th>\n",
              "      <th>0</th>\n",
              "      <th>1</th>\n",
              "      <th>2</th>\n",
              "      <th>3</th>\n",
              "      <th>4</th>\n",
              "      <th>5</th>\n",
              "      <th>6</th>\n",
              "      <th>7</th>\n",
              "      <th>8</th>\n",
              "      <th>9</th>\n",
              "      <th>...</th>\n",
              "      <th>12</th>\n",
              "      <th>13</th>\n",
              "      <th>14</th>\n",
              "      <th>15</th>\n",
              "      <th>16</th>\n",
              "      <th>17</th>\n",
              "      <th>18</th>\n",
              "      <th>19</th>\n",
              "      <th>20</th>\n",
              "      <th>21</th>\n",
              "    </tr>\n",
              "  </thead>\n",
              "  <tbody>\n",
              "    <tr>\n",
              "      <th>0</th>\n",
              "      <td>-1.23</td>\n",
              "      <td>-1.56</td>\n",
              "      <td>-1.75</td>\n",
              "      <td>-0.28</td>\n",
              "      <td>0.60</td>\n",
              "      <td>2.22</td>\n",
              "      <td>0.85</td>\n",
              "      <td>0.21</td>\n",
              "      <td>-0.20</td>\n",
              "      <td>0.89</td>\n",
              "      <td>...</td>\n",
              "      <td>2.89</td>\n",
              "      <td>7.75</td>\n",
              "      <td>4.59</td>\n",
              "      <td>3.15</td>\n",
              "      <td>5.12</td>\n",
              "      <td>3.32</td>\n",
              "      <td>1.20</td>\n",
              "      <td>0.24</td>\n",
              "      <td>-0.56</td>\n",
              "      <td>2</td>\n",
              "    </tr>\n",
              "    <tr>\n",
              "      <th>1</th>\n",
              "      <td>-0.69</td>\n",
              "      <td>2.43</td>\n",
              "      <td>0.61</td>\n",
              "      <td>2.08</td>\n",
              "      <td>2.30</td>\n",
              "      <td>3.25</td>\n",
              "      <td>5.52</td>\n",
              "      <td>4.55</td>\n",
              "      <td>2.97</td>\n",
              "      <td>2.22</td>\n",
              "      <td>...</td>\n",
              "      <td>1.24</td>\n",
              "      <td>1.89</td>\n",
              "      <td>1.88</td>\n",
              "      <td>-1.34</td>\n",
              "      <td>0.83</td>\n",
              "      <td>1.41</td>\n",
              "      <td>1.78</td>\n",
              "      <td>0.60</td>\n",
              "      <td>2.42</td>\n",
              "      <td>1</td>\n",
              "    </tr>\n",
              "    <tr>\n",
              "      <th>2</th>\n",
              "      <td>-0.12</td>\n",
              "      <td>-0.94</td>\n",
              "      <td>1.29</td>\n",
              "      <td>2.59</td>\n",
              "      <td>2.42</td>\n",
              "      <td>3.55</td>\n",
              "      <td>4.94</td>\n",
              "      <td>3.25</td>\n",
              "      <td>1.90</td>\n",
              "      <td>2.07</td>\n",
              "      <td>...</td>\n",
              "      <td>2.50</td>\n",
              "      <td>0.12</td>\n",
              "      <td>1.41</td>\n",
              "      <td>2.78</td>\n",
              "      <td>0.64</td>\n",
              "      <td>0.62</td>\n",
              "      <td>-0.01</td>\n",
              "      <td>-0.79</td>\n",
              "      <td>-0.12</td>\n",
              "      <td>0</td>\n",
              "    </tr>\n",
              "    <tr>\n",
              "      <th>3</th>\n",
              "      <td>0.86</td>\n",
              "      <td>0.29</td>\n",
              "      <td>2.19</td>\n",
              "      <td>-0.02</td>\n",
              "      <td>1.13</td>\n",
              "      <td>2.51</td>\n",
              "      <td>2.37</td>\n",
              "      <td>5.45</td>\n",
              "      <td>5.45</td>\n",
              "      <td>4.84</td>\n",
              "      <td>...</td>\n",
              "      <td>2.58</td>\n",
              "      <td>1.40</td>\n",
              "      <td>1.24</td>\n",
              "      <td>1.41</td>\n",
              "      <td>1.07</td>\n",
              "      <td>-1.43</td>\n",
              "      <td>2.84</td>\n",
              "      <td>-1.18</td>\n",
              "      <td>1.12</td>\n",
              "      <td>1</td>\n",
              "    </tr>\n",
              "    <tr>\n",
              "      <th>4</th>\n",
              "      <td>1.16</td>\n",
              "      <td>0.37</td>\n",
              "      <td>0.40</td>\n",
              "      <td>-0.59</td>\n",
              "      <td>2.66</td>\n",
              "      <td>1.00</td>\n",
              "      <td>2.69</td>\n",
              "      <td>4.06</td>\n",
              "      <td>5.34</td>\n",
              "      <td>3.53</td>\n",
              "      <td>...</td>\n",
              "      <td>4.30</td>\n",
              "      <td>1.84</td>\n",
              "      <td>1.73</td>\n",
              "      <td>0.21</td>\n",
              "      <td>-0.18</td>\n",
              "      <td>0.13</td>\n",
              "      <td>-0.21</td>\n",
              "      <td>-0.80</td>\n",
              "      <td>-0.68</td>\n",
              "      <td>1</td>\n",
              "    </tr>\n",
              "  </tbody>\n",
              "</table>\n",
              "<p>5 rows × 22 columns</p>\n",
              "</div>\n",
              "      <button class=\"colab-df-convert\" onclick=\"convertToInteractive('df-fabff19c-7d4a-4df8-a3cd-c416f4e9fd0e')\"\n",
              "              title=\"Convert this dataframe to an interactive table.\"\n",
              "              style=\"display:none;\">\n",
              "        \n",
              "  <svg xmlns=\"http://www.w3.org/2000/svg\" height=\"24px\"viewBox=\"0 0 24 24\"\n",
              "       width=\"24px\">\n",
              "    <path d=\"M0 0h24v24H0V0z\" fill=\"none\"/>\n",
              "    <path d=\"M18.56 5.44l.94 2.06.94-2.06 2.06-.94-2.06-.94-.94-2.06-.94 2.06-2.06.94zm-11 1L8.5 8.5l.94-2.06 2.06-.94-2.06-.94L8.5 2.5l-.94 2.06-2.06.94zm10 10l.94 2.06.94-2.06 2.06-.94-2.06-.94-.94-2.06-.94 2.06-2.06.94z\"/><path d=\"M17.41 7.96l-1.37-1.37c-.4-.4-.92-.59-1.43-.59-.52 0-1.04.2-1.43.59L10.3 9.45l-7.72 7.72c-.78.78-.78 2.05 0 2.83L4 21.41c.39.39.9.59 1.41.59.51 0 1.02-.2 1.41-.59l7.78-7.78 2.81-2.81c.8-.78.8-2.07 0-2.86zM5.41 20L4 18.59l7.72-7.72 1.47 1.35L5.41 20z\"/>\n",
              "  </svg>\n",
              "      </button>\n",
              "      \n",
              "  <style>\n",
              "    .colab-df-container {\n",
              "      display:flex;\n",
              "      flex-wrap:wrap;\n",
              "      gap: 12px;\n",
              "    }\n",
              "\n",
              "    .colab-df-convert {\n",
              "      background-color: #E8F0FE;\n",
              "      border: none;\n",
              "      border-radius: 50%;\n",
              "      cursor: pointer;\n",
              "      display: none;\n",
              "      fill: #1967D2;\n",
              "      height: 32px;\n",
              "      padding: 0 0 0 0;\n",
              "      width: 32px;\n",
              "    }\n",
              "\n",
              "    .colab-df-convert:hover {\n",
              "      background-color: #E2EBFA;\n",
              "      box-shadow: 0px 1px 2px rgba(60, 64, 67, 0.3), 0px 1px 3px 1px rgba(60, 64, 67, 0.15);\n",
              "      fill: #174EA6;\n",
              "    }\n",
              "\n",
              "    [theme=dark] .colab-df-convert {\n",
              "      background-color: #3B4455;\n",
              "      fill: #D2E3FC;\n",
              "    }\n",
              "\n",
              "    [theme=dark] .colab-df-convert:hover {\n",
              "      background-color: #434B5C;\n",
              "      box-shadow: 0px 1px 3px 1px rgba(0, 0, 0, 0.15);\n",
              "      filter: drop-shadow(0px 1px 2px rgba(0, 0, 0, 0.3));\n",
              "      fill: #FFFFFF;\n",
              "    }\n",
              "  </style>\n",
              "\n",
              "      <script>\n",
              "        const buttonEl =\n",
              "          document.querySelector('#df-fabff19c-7d4a-4df8-a3cd-c416f4e9fd0e button.colab-df-convert');\n",
              "        buttonEl.style.display =\n",
              "          google.colab.kernel.accessAllowed ? 'block' : 'none';\n",
              "\n",
              "        async function convertToInteractive(key) {\n",
              "          const element = document.querySelector('#df-fabff19c-7d4a-4df8-a3cd-c416f4e9fd0e');\n",
              "          const dataTable =\n",
              "            await google.colab.kernel.invokeFunction('convertToInteractive',\n",
              "                                                     [key], {});\n",
              "          if (!dataTable) return;\n",
              "\n",
              "          const docLinkHtml = 'Like what you see? Visit the ' +\n",
              "            '<a target=\"_blank\" href=https://colab.research.google.com/notebooks/data_table.ipynb>data table notebook</a>'\n",
              "            + ' to learn more about interactive tables.';\n",
              "          element.innerHTML = '';\n",
              "          dataTable['output_type'] = 'display_data';\n",
              "          await google.colab.output.renderOutput(dataTable, element);\n",
              "          const docLink = document.createElement('div');\n",
              "          docLink.innerHTML = docLinkHtml;\n",
              "          element.appendChild(docLink);\n",
              "        }\n",
              "      </script>\n",
              "    </div>\n",
              "  </div>\n",
              "  "
            ]
          },
          "metadata": {},
          "execution_count": 3
        }
      ]
    },
    {
      "cell_type": "code",
      "source": [
        "df.info()"
      ],
      "metadata": {
        "colab": {
          "base_uri": "https://localhost:8080/"
        },
        "id": "7004FAVtrBeN",
        "outputId": "7badd40c-9406-41de-bb1f-8107b5791965"
      },
      "execution_count": 4,
      "outputs": [
        {
          "output_type": "stream",
          "name": "stdout",
          "text": [
            "<class 'pandas.core.frame.DataFrame'>\n",
            "RangeIndex: 5000 entries, 0 to 4999\n",
            "Data columns (total 22 columns):\n",
            " #   Column  Non-Null Count  Dtype  \n",
            "---  ------  --------------  -----  \n",
            " 0   0       5000 non-null   float64\n",
            " 1   1       5000 non-null   float64\n",
            " 2   2       5000 non-null   float64\n",
            " 3   3       5000 non-null   float64\n",
            " 4   4       5000 non-null   float64\n",
            " 5   5       5000 non-null   float64\n",
            " 6   6       5000 non-null   float64\n",
            " 7   7       5000 non-null   float64\n",
            " 8   8       5000 non-null   float64\n",
            " 9   9       5000 non-null   float64\n",
            " 10  10      5000 non-null   float64\n",
            " 11  11      5000 non-null   float64\n",
            " 12  12      5000 non-null   float64\n",
            " 13  13      5000 non-null   float64\n",
            " 14  14      5000 non-null   float64\n",
            " 15  15      5000 non-null   float64\n",
            " 16  16      5000 non-null   float64\n",
            " 17  17      5000 non-null   float64\n",
            " 18  18      5000 non-null   float64\n",
            " 19  19      5000 non-null   float64\n",
            " 20  20      5000 non-null   float64\n",
            " 21  21      5000 non-null   int64  \n",
            "dtypes: float64(21), int64(1)\n",
            "memory usage: 859.5 KB\n"
          ]
        }
      ]
    },
    {
      "cell_type": "code",
      "source": [
        "print(df.columns)"
      ],
      "metadata": {
        "colab": {
          "base_uri": "https://localhost:8080/"
        },
        "id": "x0bxGobKrEDh",
        "outputId": "dccdd1b9-cf9f-479d-b7f4-4a910f5a53b1"
      },
      "execution_count": 5,
      "outputs": [
        {
          "output_type": "stream",
          "name": "stdout",
          "text": [
            "Int64Index([0, 1, 2, 3, 4, 5, 6, 7, 8, 9, 10, 11, 12, 13, 14, 15, 16, 17, 18,\n",
            "            19, 20, 21],\n",
            "           dtype='int64')\n"
          ]
        }
      ]
    },
    {
      "cell_type": "markdown",
      "source": [
        "Split into features (X) and target (y). It then uses train_test_split function from scikit-learn to randomly draw 4000 training examples and keep 1000 waves for the test set."
      ],
      "metadata": {
        "id": "xwYgreB5rJFb"
      }
    },
    {
      "cell_type": "code",
      "source": [
        "# Extract the features and labels from the dataset\n",
        "X = df.iloc[:, :-1]\n",
        "y = df.iloc[:, -1]\n",
        "\n",
        "# Split the data into training and test sets\n",
        "n_samples = X.shape[0]\n",
        "n_train = 4000\n",
        "n_test = 1000\n",
        "X_train, X_test = X[:n_train], X[n_train:]\n",
        "y_train, y_test = y[:n_train], y[n_train:]"
      ],
      "metadata": {
        "id": "uiGOmgccrHHC"
      },
      "execution_count": 6,
      "outputs": []
    },
    {
      "cell_type": "markdown",
      "source": [
        "**QUESTION 1**:Tune the best k of a kNN classifier by cross-validation (plot the accuracies over the validation subset\n",
        "w.r.t. k) from 4000 randomly drawn training examples (you will keep apart 1000 waves for the test\n",
        "set)."
      ],
      "metadata": {
        "id": "bUziOvfYrfqJ"
      }
    },
    {
      "cell_type": "code",
      "source": [
        "# Create a list of k values to test\n",
        "k_values = list(range(1, 101))"
      ],
      "metadata": {
        "id": "H8ntP_uNrWa7"
      },
      "execution_count": 9,
      "outputs": []
    },
    {
      "cell_type": "code",
      "source": [
        "# Create an empty list to store the cross-validation scores\n",
        "cv_scores = []\n",
        "# Perform 5-fold cross-validation for each value of k\n",
        "for k in k_values:\n",
        "    knn = KNeighborsClassifier(n_neighbors=k)\n",
        "    scores = cross_val_score(knn, X_train, y_train, cv=5, scoring='accuracy')\n",
        "    cv_scores.append(scores.mean())"
      ],
      "metadata": {
        "id": "u2ARTYWRr45C"
      },
      "execution_count": 10,
      "outputs": []
    },
    {
      "cell_type": "code",
      "source": [
        "# Plot the cross-validation scores for each value of k\n",
        "sns.set_style(\"darkgrid\", {\"grid.color\": \".6\", \"grid.linestyle\": \":\"})\n",
        "sns.scatterplot(k_values, cv_scores)\n",
        "plt.xlabel('k values')\n",
        "plt.ylabel('Accuracy')\n",
        "plt.title('Accuracy for different k')\n",
        "plt.show()\n",
        "plt.savefig('avg.png') # Saving the png"
      ],
      "metadata": {
        "colab": {
          "base_uri": "https://localhost:8080/",
          "height": 312
        },
        "id": "ibkqFqBlr7Av",
        "outputId": "f95494b0-4b55-4f26-c735-3e9fd4a93bf4"
      },
      "execution_count": 23,
      "outputs": [
        {
          "output_type": "display_data",
          "data": {
            "text/plain": [
              "<Figure size 432x288 with 1 Axes>"
            ],
            "image/png": "[encoded data removed]"
          },
          "metadata": {}
        },
        {
          "output_type": "display_data",
          "data": {
            "text/plain": [
              "<Figure size 432x288 with 0 Axes>"
            ]
          },
          "metadata": {}
        }
      ]
    },
    {
      "cell_type": "markdown",
      "source": [
        "Next, it creates a list of k values to test (in this case, the values range from 1 to 100). It then creates an empty list to store the cross-validation scores and performs 5-fold cross-validation for each value of k. For each value of k, it trains a kNN classifier on the training set and calculates the cross-validation scores. The mean of the scores is then appended to the list of cross-validation scores.\n",
        "\n",
        "Finally, the code plots the cross-validation scores for each value of k using Matplotlib. This allows you to visualize how the accuracy changes as you vary the value of k."
      ],
      "metadata": {
        "id": "owqDb25Ks08-"
      }
    },
    {
      "cell_type": "code",
      "source": [
        "# Determine the best k value\n",
        "best_k = k_values[cv_scores.index(max(cv_scores))]\n",
        "\n",
        "print(f'The best k value is {best_k}')"
      ],
      "metadata": {
        "colab": {
          "base_uri": "https://localhost:8080/"
        },
        "id": "2ovPWqJNsNIB",
        "outputId": "3efbaf80-a538-4400-cff2-5ee36386f62b"
      },
      "execution_count": 13,
      "outputs": [
        {
          "output_type": "stream",
          "name": "stdout",
          "text": [
            "The best k value is 96\n"
          ]
        }
      ]
    },
    {
      "cell_type": "code",
      "source": [
        "# Train a kNN model on the training set with the best value of k\n",
        "knn = KNeighborsClassifier(n_neighbors=best_k)\n",
        "knn.fit(X_train, y_train)"
      ],
      "metadata": {
        "colab": {
          "base_uri": "https://localhost:8080/"
        },
        "id": "wase2CVGsVMA",
        "outputId": "e0ddc259-24fb-4b18-f2fd-49d6a66641b2"
      },
      "execution_count": 14,
      "outputs": [
        {
          "output_type": "execute_result",
          "data": {
            "text/plain": [
              "KNeighborsClassifier(n_neighbors=96)"
            ]
          },
          "metadata": {},
          "execution_count": 14
        }
      ]
    },
    {
      "cell_type": "code",
      "source": [
        "# Evaluate the model on the test set\n",
        "test_accuracy = knn.score(X_test, y_test)\n",
        "print(\"Test accuracy:\", test_accuracy)"
      ],
      "metadata": {
        "colab": {
          "base_uri": "https://localhost:8080/"
        },
        "id": "AvMGmqNdsayf",
        "outputId": "9277e2d2-e987-4099-c11a-496b2dc3f2a8"
      },
      "execution_count": 15,
      "outputs": [
        {
          "output_type": "stream",
          "name": "stdout",
          "text": [
            "Test accuracy: 0.858\n"
          ]
        }
      ]
    },
    {
      "cell_type": "code",
      "source": [
        "# Plot the cross-validation scores for each value of k\n",
        "sns.set_style(\"darkgrid\", {\"grid.color\": \".6\", \"grid.linestyle\": \":\"})\n",
        "sns.scatterplot(k_values, cv_scores)\n",
        "\n",
        "# Plot the test accuracy as a dashed line on the same scatterplot\n",
        "sns.lineplot(k_values, [test_accuracy] * len(k_values), linestyle='dashed',color = 'red')\n",
        "\n",
        "plt.xlabel('k values')\n",
        "plt.ylabel('Accuracy')\n",
        "plt.title(\"Tuning k with Cross-Validation\")\n",
        "plt.show()\n",
        "plt.savefig('accuracy.png')"
      ],
      "metadata": {
        "colab": {
          "base_uri": "https://localhost:8080/",
          "height": 312
        },
        "id": "FLrt1pQvsf8m",
        "outputId": "9276652b-fa99-469c-9c50-e8c13b5f3490"
      },
      "execution_count": 25,
      "outputs": [
        {
          "output_type": "display_data",
          "data": {
            "text/plain": [
              "<Figure size 432x288 with 1 Axes>"
            ],
            "image/png": "[encoded data removed]"
          },
          "metadata": {}
        },
        {
          "output_type": "display_data",
          "data": {
            "text/plain": [
              "<Figure size 432x288 with 0 Axes>"
            ]
          },
          "metadata": {}
        }
      ]
    },
    {
      "cell_type": "code",
      "source": [
        "# Create a GaussianNB model\n",
        "gnb = GaussianNB()\n",
        "\n",
        "# Fit the model on the training data\n",
        "gnb.fit(X_train, y_train)\n",
        "\n",
        "# Predict the labels on the test data\n",
        "y_pred = gnb.predict(X_test)\n",
        "\n",
        "# Compute the accuracy on the test data\n",
        "accuracy = (y_pred == y_test).mean()\n",
        "\n",
        "print(f'Test accuracy: {accuracy:.3f}')"
      ],
      "metadata": {
        "colab": {
          "base_uri": "https://localhost:8080/"
        },
        "id": "JyKOLbCus3Ji",
        "outputId": "31084c78-a320-4ce4-e8db-e265ea4e06b4"
      },
      "execution_count": 18,
      "outputs": [
        {
          "output_type": "stream",
          "name": "stdout",
          "text": [
            "Test accuracy: 0.822\n"
          ]
        }
      ]
    },
    {
      "cell_type": "markdown",
      "source": [
        "This code creates a Gaussian Naive Bayes model, fits it on the training data, and predicts the labels on the test data. It then computes the accuracy of the model on the test data by comparing the predicted labels to the true labels."
      ],
      "metadata": {
        "id": "h1HCDif2s8OK"
      }
    },
    {
      "cell_type": "code",
      "source": [
        "# Create an empty list to store the test accuracies for the Bayesian model\n",
        "test_accuracies_nb = []"
      ],
      "metadata": {
        "id": "BqnmQ2K0s5mh"
      },
      "execution_count": 19,
      "outputs": []
    },
    {
      "cell_type": "code",
      "source": [
        "# Compute the test accuracy for each value of k\n",
        "for k in k_values:\n",
        "    gnb = GaussianNB()\n",
        "    gnb.fit(X_train, y_train)\n",
        "    y_pred = gnb.predict(X_test)\n",
        "    test_accuracies_nb.append((y_pred == y_test).mean())"
      ],
      "metadata": {
        "id": "X5JXCY6DtFq6"
      },
      "execution_count": 20,
      "outputs": []
    },
    {
      "cell_type": "code",
      "source": [
        "# Plot the cross-validation scores for kNN and the test accuracies for the Bayesian model\n",
        "sns.set_style(\"darkgrid\", {\"grid.color\": \".6\", \"grid.linestyle\": \":\"})\n",
        "sns.scatterplot(k_values, cv_scores, label='kNN')\n",
        "plt.plot(k_values, test_accuracies_nb, label='Bayesian',linestyle='dashed',color='red')\n",
        "plt.xlabel('k')\n",
        "plt.ylabel('Accuracy')\n",
        "plt.legend()\n",
        "plt.show()"
      ],
      "metadata": {
        "colab": {
          "base_uri": "https://localhost:8080/",
          "height": 279
        },
        "id": "N8gvZeIXtHQB",
        "outputId": "4dce2a12-89a1-465f-c08e-1ea689c4b61f"
      },
      "execution_count": 21,
      "outputs": [
        {
          "output_type": "display_data",
          "data": {
            "text/plain": [
              "<Figure size 432x288 with 1 Axes>"
            ],
            "image/png": "[encoded data removed]"
          },
          "metadata": {}
        }
      ]
    },
    {
      "cell_type": "markdown",
      "source": [
        "It plots both the cross-validation scores for kNN and the test accuracies for the Bayesian model on the same scatter plot. This will allow you to compare the performance of the two models for different values of k."
      ],
      "metadata": {
        "id": "L9FMMwrst_13"
      }
    },
    {
      "cell_type": "markdown",
      "source": [
        "**QUESTION 2**.Reduce the complexity by running the Data Reduction algorithms studied in class on the training\n",
        "data. Compare the accuracy (with a 1NN) on the 1000 test waves before and after reduction of the\n",
        "training set"
      ],
      "metadata": {
        "id": "nRWSR6F-uGe_"
      }
    },
    {
      "cell_type": "markdown",
      "source": [
        "Here is an example of how to use the ***CondensedNearestNeighbour*** class to reduce the complexity of the kNN classifier:"
      ],
      "metadata": {
        "id": "Uio2mLfvuO5o"
      }
    },
    {
      "cell_type": "code",
      "source": [
        "print(X_train.shape)"
      ],
      "metadata": {
        "colab": {
          "base_uri": "https://localhost:8080/"
        },
        "id": "KhltRp4ztKB7",
        "outputId": "6e62c6cc-1ba6-48bd-81de-3f8a42f09b28"
      },
      "execution_count": 26,
      "outputs": [
        {
          "output_type": "stream",
          "name": "stdout",
          "text": [
            "(4000, 21)\n"
          ]
        }
      ]
    },
    {
      "cell_type": "code",
      "source": [
        "# Create a CondensedNearestNeighbour instance\n",
        "cnn = CondensedNearestNeighbour()\n",
        "\n",
        "# Use the fit_resample method to reduce the complexity of the training set\n",
        "X_train_reduced, y_train_reduced = cnn.fit_resample(X_train, y_train)\n",
        "\n",
        "# Print the shape of the reduced training set\n",
        "print(X_train_reduced.shape)"
      ],
      "metadata": {
        "colab": {
          "base_uri": "https://localhost:8080/"
        },
        "id": "vDVLtURZuRxa",
        "outputId": "31a1bc1e-635c-4be1-b9b7-50d6ecc2413a"
      },
      "execution_count": 27,
      "outputs": [
        {
          "output_type": "stream",
          "name": "stdout",
          "text": [
            "(1861, 21)\n"
          ]
        }
      ]
    },
    {
      "cell_type": "code",
      "source": [
        "# Create an empty list to store the accuracies\n",
        "accuracies = []"
      ],
      "metadata": {
        "id": "bvFN7U2SuTPa"
      },
      "execution_count": 28,
      "outputs": []
    },
    {
      "cell_type": "code",
      "source": [
        "for k in k_values:\n",
        "    # Create a CondensedNearestNeighbour instance\n",
        "    cnn = CondensedNearestNeighbour()\n",
        "\n",
        "    # Use the fit_resample method to reduce the complexity of the training set\n",
        "    X_train_reduced, y_train_reduced = cnn.fit_resample(X_train, y_train)\n",
        "\n",
        "    # Create a kNN classifier with k neighbors\n",
        "    knn = KNeighborsClassifier(n_neighbors=k)\n",
        "\n",
        "    # Train the classifier on the reduced training set\n",
        "    knn.fit(X_train_reduced, y_train_reduced)\n",
        "\n",
        "    # Evaluate the classifier on the test set\n",
        "    accuracy = knn.score(X_test, y_test)\n",
        "\n",
        "    # Store the accuracy\n",
        "    accuracies.append(accuracy)"
      ],
      "metadata": {
        "id": "t8y06SGiugFO"
      },
      "execution_count": 62,
      "outputs": []
    },
    {
      "cell_type": "code",
      "source": [
        "# Plot the accuracies versus k\n",
        "accuracies = accuracies[:len(k_values)]\n",
        "sns.scatterplot(x=k_values, y=accuracies)\n",
        "plt.xlabel('k')\n",
        "plt.ylabel('Accuracy')\n",
        "plt.title('Accuracy of kNN on Reduced Dataset')\n",
        "\n",
        "# Save the plot to an image file\n",
        "plt.savefig('cnn.png')\n",
        "\n",
        "# Display the plot\n",
        "plt.show()\n"
      ],
      "metadata": {
        "colab": {
          "base_uri": "https://localhost:8080/",
          "height": 295
        },
        "id": "dbXg4y6yujVP",
        "outputId": "dae44097-90b0-40b5-ab1d-c08b3f577a4c"
      },
      "execution_count": 66,
      "outputs": [
        {
          "output_type": "display_data",
          "data": {
            "text/plain": [
              "<Figure size 432x288 with 1 Axes>"
            ],
            "image/png": "[encoded data removed]"
          },
          "metadata": {}
        }
      ]
    },
    {
      "cell_type": "code",
      "source": [
        "# Create a kNN classifier with 1 neighbor\n",
        "knn = KNeighborsClassifier(n_neighbors=1)"
      ],
      "metadata": {
        "id": "9t8gXYvBupiv"
      },
      "execution_count": 29,
      "outputs": []
    },
    {
      "cell_type": "code",
      "source": [
        "# Train the classifier on the original training set\n",
        "knn.fit(X_train, y_train)"
      ],
      "metadata": {
        "colab": {
          "base_uri": "https://localhost:8080/"
        },
        "id": "ZFeihGj1uuRh",
        "outputId": "2aa46072-0f04-46b4-f2ee-9fe48478a93e"
      },
      "execution_count": 30,
      "outputs": [
        {
          "output_type": "execute_result",
          "data": {
            "text/plain": [
              "KNeighborsClassifier(n_neighbors=1)"
            ]
          },
          "metadata": {},
          "execution_count": 30
        }
      ]
    },
    {
      "cell_type": "code",
      "source": [
        "# Evaluate the classifier on the test set\n",
        "accuracy_before = knn.score(X_test, y_test)\n",
        "print(f'Accuracy before reduction: {accuracy_before:.3f}')"
      ],
      "metadata": {
        "colab": {
          "base_uri": "https://localhost:8080/"
        },
        "id": "jlgCPx9Buxcl",
        "outputId": "5519a560-35d9-45e3-8471-658c23ed7913"
      },
      "execution_count": 31,
      "outputs": [
        {
          "output_type": "stream",
          "name": "stdout",
          "text": [
            "Accuracy before reduction: 0.763\n"
          ]
        }
      ]
    },
    {
      "cell_type": "code",
      "source": [
        "# Create a CondensedNearestNeighbour instance\n",
        "cnn = CondensedNearestNeighbour()"
      ],
      "metadata": {
        "id": "NB0yd79su0Dc"
      },
      "execution_count": 33,
      "outputs": []
    },
    {
      "cell_type": "code",
      "source": [
        "# Use the fit_resample method to reduce the complexity of the training set\n",
        "X_train_reduced, y_train_reduced = cnn.fit_resample(X_train, y_train)"
      ],
      "metadata": {
        "id": "1wsJiYgwu3Fp"
      },
      "execution_count": 34,
      "outputs": []
    },
    {
      "cell_type": "code",
      "source": [
        "# Train the classifier on the reduced training set\n",
        "knn.fit(X_train_reduced, y_train_reduced)"
      ],
      "metadata": {
        "colab": {
          "base_uri": "https://localhost:8080/"
        },
        "id": "gsBijWb7u3hk",
        "outputId": "fb28f8fc-e6c1-4460-83c0-02617e73b8df"
      },
      "execution_count": 35,
      "outputs": [
        {
          "output_type": "execute_result",
          "data": {
            "text/plain": [
              "KNeighborsClassifier(n_neighbors=1)"
            ]
          },
          "metadata": {},
          "execution_count": 35
        }
      ]
    },
    {
      "cell_type": "code",
      "source": [
        "# Evaluate the classifier on the test set\n",
        "accuracy_after = knn.score(X_test, y_test)\n",
        "print(f'Accuracy after reduction: {accuracy_after:.3f}')\n"
      ],
      "metadata": {
        "colab": {
          "base_uri": "https://localhost:8080/"
        },
        "id": "yi10QFlRu8qR",
        "outputId": "65f2609d-dc9e-4cbb-d200-807c1f23f444"
      },
      "execution_count": 36,
      "outputs": [
        {
          "output_type": "stream",
          "name": "stdout",
          "text": [
            "Accuracy after reduction: 0.772\n"
          ]
        }
      ]
    },
    {
      "cell_type": "markdown",
      "source": [
        "Here is an example of how to use the ***PCA*** class to reduce the complexity of the kNN classifier:"
      ],
      "metadata": {
        "id": "8NZxc7swvGY5"
      }
    },
    {
      "cell_type": "code",
      "source": [
        "from sklearn.decomposition import PCA\n",
        "\n",
        "# Reduce the dimensionality of the training data using PCA\n",
        "pca = PCA(n_components=0.9)\n",
        "X_train_reduced = pca.fit_transform(X_train)"
      ],
      "metadata": {
        "id": "CuzEjDsVvM5U"
      },
      "execution_count": 38,
      "outputs": []
    },
    {
      "cell_type": "code",
      "source": [
        "# Reduce the dimensionality of the test data using PCA\n",
        "X_test_reduced = pca.transform(X_test)"
      ],
      "metadata": {
        "id": "oytMAQBAvO1Y"
      },
      "execution_count": 39,
      "outputs": []
    },
    {
      "cell_type": "code",
      "source": [
        "# Train the classifier on the reduced training data\n",
        "knn.fit(X_train_reduced, y_train)\n",
        "\n",
        "# Compute the accuracy on the test data\n",
        "pca_accuracy = knn.score(X_test_reduced, y_test)"
      ],
      "metadata": {
        "id": "Mp-WYIfMvWfM"
      },
      "execution_count": 42,
      "outputs": []
    },
    {
      "cell_type": "code",
      "source": [
        "# Print the accuracies\n",
        "print(f'Original accuracy: {accuracy_before:.3f}')\n",
        "print(f'PCA accuracy: {pca_accuracy:.3f}')"
      ],
      "metadata": {
        "colab": {
          "base_uri": "https://localhost:8080/"
        },
        "id": "3r5tTbhivZN3",
        "outputId": "e3137dbb-535f-4f6b-f8ff-68c0e3d8d4bc"
      },
      "execution_count": 43,
      "outputs": [
        {
          "output_type": "stream",
          "name": "stdout",
          "text": [
            "Original accuracy: 0.763\n",
            "PCA accuracy: 0.765\n"
          ]
        }
      ]
    },
    {
      "cell_type": "markdown",
      "source": [
        "**QUESTION 3** Using the original dataset, compare (in terms of time) the two methods studied in class for\n",
        "speeding-up the calculation of the 1NN with a brute force 1NN algorithm"
      ],
      "metadata": {
        "id": "rcJH_m7Rv58R"
      }
    },
    {
      "cell_type": "code",
      "source": [
        "def brute_force_1nn(X_train, X_test, y_train):\n",
        "    \"\"\"Calculate the 1NN using a brute force approach\"\"\"\n",
        "    distances = cdist(X_train, X_test)\n",
        "    indices = np.argmin(distances, axis=0)\n",
        "    return y_train[indices]"
      ],
      "metadata": {
        "id": "GTeTe2c_v9oq"
      },
      "execution_count": 46,
      "outputs": []
    },
    {
      "cell_type": "code",
      "source": [
        "def kdtree_1nn(X_train, X_test, y_train):\n",
        "    \"\"\"Calculate the 1NN using a KD Tree\"\"\"\n",
        "    tree = KDTree(X_train)\n",
        "    distances, indices = tree.query(X_test, k=1)\n",
        "    return y_train[indices.flatten()]"
      ],
      "metadata": {
        "id": "NKaQPhwPv_ho"
      },
      "execution_count": 47,
      "outputs": []
    },
    {
      "cell_type": "code",
      "source": [
        "# Measure the execution time of the brute force 1NN function\n",
        "start_time = time.time()\n",
        "y_pred_brute_force = brute_force_1nn(X_train, X_test, y_train)\n",
        "time_brute_force = time.time() - start_time"
      ],
      "metadata": {
        "id": "0hruR6CcwBQt"
      },
      "execution_count": 48,
      "outputs": []
    },
    {
      "cell_type": "code",
      "source": [
        "# Measure the execution time of the KD Tree 1NN function\n",
        "start_time = time.time()\n",
        "y_pred_kdtree = kdtree_1nn(X_train, X_test, y_train)\n",
        "time_kdtree = time.time() - start_time"
      ],
      "metadata": {
        "id": "5T1lbbvKwCtH"
      },
      "execution_count": 49,
      "outputs": []
    },
    {
      "cell_type": "code",
      "source": [
        "print(f'Execution time for brute force 1NN: {time_brute_force:.2f} seconds')\n",
        "print(f'Execution time for KD Tree 1NN: {time_kdtree:.2f} seconds')"
      ],
      "metadata": {
        "colab": {
          "base_uri": "https://localhost:8080/"
        },
        "id": "jw8vvqHkwEct",
        "outputId": "ff09d505-e00a-4a93-cfb8-ba46719fe05f"
      },
      "execution_count": 50,
      "outputs": [
        {
          "output_type": "stream",
          "name": "stdout",
          "text": [
            "Execution time for brute force 1NN: 0.10 seconds\n",
            "Execution time for KD Tree 1NN: 0.19 seconds\n"
          ]
        }
      ]
    },
    {
      "cell_type": "code",
      "source": [
        "# Convert the Pandas series to NumPy arrays\n",
        "y_pred_brute_force = y_pred_brute_force.values\n",
        "y_pred_kdtree = y_pred_kdtree.values"
      ],
      "metadata": {
        "id": "FlFPi7EDwGD6"
      },
      "execution_count": 51,
      "outputs": []
    },
    {
      "cell_type": "code",
      "source": [
        "# Calculate the accuracy of the brute force 1NN function\n",
        "y_pred_brute_force = y_pred_brute_force.reshape(y_test.shape)\n",
        "accuracy_brute_force = np.mean(y_pred_brute_force == y_test)\n",
        "print(f'Accuracy of brute force 1NN: {accuracy_brute_force:.2f}')"
      ],
      "metadata": {
        "colab": {
          "base_uri": "https://localhost:8080/"
        },
        "id": "u_fCSJ0_wHtN",
        "outputId": "ec11704e-e895-4268-d6f5-da053112e21b"
      },
      "execution_count": 52,
      "outputs": [
        {
          "output_type": "stream",
          "name": "stdout",
          "text": [
            "Accuracy of brute force 1NN: 0.76\n"
          ]
        }
      ]
    },
    {
      "cell_type": "code",
      "source": [
        "# Calculate the accuracy of the KD Tree 1NN function\n",
        "y_pred_kdtree = y_pred_kdtree.reshape(y_test.shape)\n",
        "accuracy_kdtree = np.mean(y_pred_kdtree == y_test)\n",
        "print(f'Accuracy of KD Tree 1NN: {accuracy_kdtree:.2f}')"
      ],
      "metadata": {
        "colab": {
          "base_uri": "https://localhost:8080/"
        },
        "id": "SsjsEVj0wJO9",
        "outputId": "7ed264a0-80a6-4c2e-bf7b-19d415b2875d"
      },
      "execution_count": 53,
      "outputs": [
        {
          "output_type": "stream",
          "name": "stdout",
          "text": [
            "Accuracy of KD Tree 1NN: 0.76\n"
          ]
        }
      ]
    },
    {
      "cell_type": "code",
      "source": [
        "# Create a bar plot with the accuracies\n",
        "plt.bar(['Brute force', 'KD Tree'], [accuracy_brute_force, accuracy_kdtree], color=['red', 'blue'])\n",
        "plt.show()"
      ],
      "metadata": {
        "colab": {
          "base_uri": "https://localhost:8080/",
          "height": 269
        },
        "id": "vw8xS920wKuj",
        "outputId": "627a2777-6a26-491a-89eb-f1ca9facf6b7"
      },
      "execution_count": 54,
      "outputs": [
        {
          "output_type": "display_data",
          "data": {
            "text/plain": [
              "<Figure size 432x288 with 1 Axes>"
            ],
            "image/png": "[encoded data removed]"
          },
          "metadata": {}
        }
      ]
    },
    {
      "cell_type": "markdown",
      "source": [
        "This code compares the execution time of two methods for calculating the 1-nearest neighbor (1NN) of a set of points. The first method is a brute force approach, which calculates the 1NN by comparing the distance of each point in the training set to each point in the test set and selecting the point in the training set with the minimum distance. The second method is a KD Tree approach, which uses a KD Tree data structure to more efficiently find the 1NN."
      ],
      "metadata": {
        "id": "7OOU_DT0wSAy"
      }
    },
    {
      "cell_type": "markdown",
      "source": [
        "**QUESTION 4** Generate artificially imbalancy in the training data and analyze the impact on the accuracy on the\n",
        "1000 test waves. Tune k w.r.t. the F-measure and compare the performance with the accuracy"
      ],
      "metadata": {
        "id": "I_F_AC35wT-Q"
      }
    },
    {
      "cell_type": "code",
      "source": [
        "#Create empty lists to store the F-measures and accuracies\n",
        "f_measures = []\n",
        "accuracies = []"
      ],
      "metadata": {
        "id": "uYLQkaSbwMFm"
      },
      "execution_count": 56,
      "outputs": []
    },
    {
      "cell_type": "code",
      "source": [
        "#Iterate over the k values\n",
        "for k in k_values:\n",
        "  # Artificially imbalanced the training data using SMOTE\n",
        "  smote = SMOTE(sampling_strategy='minority')\n",
        "  X_train_imbalanced, y_train_imbalanced = smote.fit_resample(X_train, y_train)\n",
        "  # Create a k-nn classifier\n",
        "  knn = KNeighborsClassifier(n_neighbors=k)\n",
        "  # Train the classifier on the imbalanced training data\n",
        "  knn.fit(X_train_imbalanced, y_train_imbalanced)\n",
        "\n",
        "  # Compute the F-measure and accuracy on the test data\n",
        "  y_pred = knn.predict(X_test)\n",
        "  f_measure = f1_score(y_test, y_pred, average='weighted')\n",
        "  accuracy = knn.score(X_test, y_test)\n",
        "\n",
        "  # Append the F-measure and accuracy to the lists\n",
        "  f_measures.append(f_measure)\n",
        "  accuracies.append(accuracy)\n"
      ],
      "metadata": {
        "id": "HvbtiBotwjrL"
      },
      "execution_count": 58,
      "outputs": []
    },
    {
      "cell_type": "code",
      "source": [
        "f_measure_max_index = np.argmax(f_measures)\n",
        "f_measure_max = f_measures[f_measure_max_index]\n",
        "\n",
        "accuracy_max_index = np.argmax(accuracies)\n",
        "accuracy_max = accuracies[accuracy_max_index]\n",
        "\n",
        "print(f\"Maximum F-measure: {f_measure_max:.3f} at k = {k_values[f_measure_max_index]}\")\n",
        "print(f\"Maximum accuracy: {accuracy_max:.3f} at k = {k_values[accuracy_max_index]}\")\n"
      ],
      "metadata": {
        "colab": {
          "base_uri": "https://localhost:8080/"
        },
        "id": "4rOKSid5woS5",
        "outputId": "24dd5547-15c8-487a-c8ad-e4d0fb5bac00"
      },
      "execution_count": 59,
      "outputs": [
        {
          "output_type": "stream",
          "name": "stdout",
          "text": [
            "Maximum F-measure: 0.861 at k = 64\n",
            "Maximum accuracy: 0.863 at k = 64\n"
          ]
        }
      ]
    },
    {
      "cell_type": "code",
      "source": [
        "# Create a scatter plot with both F-measures and accuracies\n",
        "plt.figure(figsize=(10,5))\n",
        "plt.scatter(k_values, f_measures, color='blue', label='F-measure')\n",
        "plt.scatter(k_values, accuracies, color='orange', label='Accuracy')\n",
        "plt.xlabel('k')\n",
        "plt.title(\"Accuracy and F measure for different k\")\n",
        "plt.savefig('fm.png') # Saving the png\n",
        "plt.legend()\n",
        "plt.show()"
      ],
      "metadata": {
        "colab": {
          "base_uri": "https://localhost:8080/",
          "height": 350
        },
        "id": "iRaPLM7jwuaE",
        "outputId": "09f06318-e417-45d7-b54c-42e467f398e8"
      },
      "execution_count": 61,
      "outputs": [
        {
          "output_type": "display_data",
          "data": {
            "text/plain": [
              "<Figure size 720x360 with 1 Axes>"
            ],
            "image/png": "[encoded data removed]"
          },
          "metadata": {}
        }
      ]
    }
  ]
}